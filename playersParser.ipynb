{
 "cells": [
  {
   "cell_type": "code",
   "execution_count": 1,
   "metadata": {},
   "outputs": [],
   "source": [
    "from faceit import Faceit"
   ]
  },
  {
   "cell_type": "code",
   "execution_count": 2,
   "metadata": {},
   "outputs": [],
   "source": [
    "faceit = Faceit()"
   ]
  },
  {
   "cell_type": "code",
   "execution_count": 3,
   "metadata": {},
   "outputs": [],
   "source": [
    "matches = faceit.getMatches()\n",
    "match = faceit.getMatchDetails(id=matches[0]['id'])"
   ]
  },
  {
   "cell_type": "code",
   "execution_count": 4,
   "metadata": {},
   "outputs": [],
   "source": [
    "playerID = match['teams']['faction1']['roster'][0]['id']"
   ]
  },
  {
   "cell_type": "code",
   "execution_count": 18,
   "metadata": {},
   "outputs": [],
   "source": [
    "matches = faceit.getPlayerInfo(\"TSecret_\")"
   ]
  },
  {
   "cell_type": "code",
   "execution_count": 19,
   "metadata": {},
   "outputs": [
    {
     "data": {
      "text/plain": [
       "{'result': 'ok',\n",
       " 'payload': {'pending_friendship_requests': [],\n",
       "  'country': 'kz',\n",
       "  'registration_status': 'active',\n",
       "  'infractions': {'last_infraction_date': 'Sun May 21 18:39:51 UTC 2017',\n",
       "   'afk': 0,\n",
       "   'leaver': 2,\n",
       "   'qm_not_checkedin': 0,\n",
       "   'qm_not_voted': 0},\n",
       "  'csgo_name': '@timichango',\n",
       "  'matches_left': 28,\n",
       "  'private_tournaments_invitations': {},\n",
       "  'overwatch_EU_applied_id': '4252020',\n",
       "  'user_type': 'user',\n",
       "  'stats': {},\n",
       "  'games': {'csgo': {'skill_level_label': '10',\n",
       "    'faceit_elo': 2024,\n",
       "    'game_profile_id': 'acba2c64-c5c5-46ec-939c-702667d7db7e',\n",
       "    'skill_level': 10,\n",
       "    'game_id': '76561198069418577',\n",
       "    'tags': ['ac_req', 'sms_req'],\n",
       "    'region': 'EU',\n",
       "    'region_updated_at': 'Tue Jun 28 06:14:46 UTC 2016',\n",
       "    'regions': {'EU': {'selected_ladder_id': 'c35ad87c-4706-40c8-89b2-c3902af75553'}},\n",
       "    'game_name': '@timichango'},\n",
       "   'rainbow_6': {'game_id': 'TSecret-',\n",
       "    'game_name': 'TSecret-',\n",
       "    'game_profile_id': '410dcbfe-5555-4a0f-a983-44fe5f9a0b05',\n",
       "    'region': 'EU',\n",
       "    'skill_level': 3,\n",
       "    'skill_level_label': '3',\n",
       "    'tags': ['manual'],\n",
       "    'faceit_elo': 1000}},\n",
       "  'rainbow_6_name': 'TSecret-',\n",
       "  'rainbow_6_id': 'TSecret-',\n",
       "  'matches_not_played': 1,\n",
       "  'active_team_id': None,\n",
       "  'newsletter_promotions': True,\n",
       "  'version': 4,\n",
       "  'created_by': 'anonymous',\n",
       "  'favorite_tournaments': [],\n",
       "  'tags': ['fb_rc_0001', 'active_player_nofollow'],\n",
       "  'csgo_skill_level_label': '10',\n",
       "  'activated_at': 'Sun Apr 17 14:48:19 UTC 2016',\n",
       "  'invitations_remaining': 10,\n",
       "  'pending_friends': ['8b536509-3433-4f29-8396-e44646acbdc4'],\n",
       "  'steam_id': 'STEAM_1:1:54576424',\n",
       "  'ongoing_rooms': {},\n",
       "  'updated_by': 'broker',\n",
       "  'guid': '60607dc4-48ee-49c1-9203-68a492bc08a3',\n",
       "  'matching_sound': 'whoosh-whip',\n",
       "  'present': False,\n",
       "  'private_tournaments': [],\n",
       "  'status': 'AVAILABLE',\n",
       "  'notification_tournament_joined_starts': True,\n",
       "  'guest_info': {},\n",
       "  'friends_ids': ['bc086c7e-b9c4-4218-995f-1beede7edf31',\n",
       "   'c0d6db11-8557-40e7-a271-860701c163df',\n",
       "   '99e708ad-0111-436a-9477-7809cffa8647',\n",
       "   'ee79d897-a4ee-43c9-8bc1-09c3ff745e88',\n",
       "   '5e7049a3-a28e-40c8-a844-88f8e2b171d7',\n",
       "   '1b07395c-14f4-464e-a4ac-efde31e58f21',\n",
       "   'a325738a-3a17-4f5b-804b-160e4b14dcac',\n",
       "   '4dbb45bd-d41a-4ce3-818a-c5e85f454c39',\n",
       "   '69eaa764-a7a9-43a6-83b7-0c1922bed85c',\n",
       "   'ef3d4be5-8f28-4b73-b0dc-ea65652e81d0',\n",
       "   '10c9e659-46c0-49ec-8e47-456a314e921b',\n",
       "   '5d9570f0-997c-4222-b3f0-bb0cda246b2d',\n",
       "   '216ffd70-0204-4e83-9f58-f1b21d21addc',\n",
       "   '5262fecc-6fd6-4775-94ab-7733c23c655e',\n",
       "   '295ab410-cede-4cf2-af5f-b25ed820b25e',\n",
       "   '5bf98f5a-50a4-4bfc-be05-370c89026c9c',\n",
       "   '55bf83b4-36b5-46a1-baf0-707b3afaf8f6',\n",
       "   '0b6a06e6-58b4-4696-8837-f2962828bf41',\n",
       "   'c6149365-e483-409c-b39d-a8702057a77f',\n",
       "   'a5abfff8-abea-492b-8e7d-194d7387a1dd',\n",
       "   'ab002774-64fc-4996-beb8-8ca58768a81b',\n",
       "   '28f861d9-d707-407b-9819-6698cd0675a9'],\n",
       "  'flag': 'csgo',\n",
       "  'rainbow_6_skill_level': 3,\n",
       "  'cover_image_url': 'https://assets.faceit-cdn.net/users_covers/60607dc4-48ee-49c1-9203-68a492bc08a3_1568998717099.jpg',\n",
       "  'csgo_id': '76561198069418577',\n",
       "  'created_at': 'Sun Apr 17 14:48:19 UTC 2016',\n",
       "  'membership': {'type': 'free'},\n",
       "  'memberships': ['free'],\n",
       "  'newsletter_general': False,\n",
       "  'last_quick_matches': {'csgo': {'leader': '60607dc4-48ee-49c1-9203-68a492bc08a3',\n",
       "    'game': 'csgo',\n",
       "    'join_type': 'solo',\n",
       "    'faceit_csgo_elo': 762,\n",
       "    'skill_level': 1,\n",
       "    'team_id': '60607dc4-48ee-49c1-9203-68a492bc08a3',\n",
       "    'selected_ladder_id': 'c35ad87c-4706-40c8-89b2-c3902af75553',\n",
       "    'selected_members_ids': ['60607dc4-48ee-49c1-9203-68a492bc08a3'],\n",
       "    'user_id': '60607dc4-48ee-49c1-9203-68a492bc08a3',\n",
       "    'nickname': 'TSecret_',\n",
       "    'match_type': '5v5PREMIUM',\n",
       "    'online': True,\n",
       "    'playing': False,\n",
       "    'client_source': 'new-frontend',\n",
       "    'region': 'EU',\n",
       "    'inserted_at': 'Sun May 21 17:40:39 UTC 2017',\n",
       "    'membership_type': 'unlimited'}},\n",
       "  'nickname': 'TSecret_',\n",
       "  'ongoing_tournaments': {},\n",
       "  'steam_id_64': '76561198069418577',\n",
       "  'new_steam_id': '[U:1:109152849]',\n",
       "  'csgo_skill_level': 10,\n",
       "  'quick_matches': {},\n",
       "  'rainbow_6_skill_level_label': '3',\n",
       "  'overwatch_EU_applied': True,\n",
       "  'avatar': 'https://assets.faceit-cdn.net/avatars/60607dc4-48ee-49c1-9203-68a492bc08a3_1568998732723.jpg',\n",
       "  'entity_type': 'user',\n",
       "  'phone_verified': True},\n",
       " 'server_epoch_time': 1635183735,\n",
       " 'message': 'Operation performed correctly.',\n",
       " 'env': 'prod',\n",
       " 'you_are': {'roles': ['anonymous'], 'user': 'anonymous'},\n",
       " 'version': '2.220.5'}"
      ]
     },
     "execution_count": 19,
     "metadata": {},
     "output_type": "execute_result"
    }
   ],
   "source": [
    "matches"
   ]
  },
  {
   "cell_type": "code",
   "execution_count": null,
   "metadata": {},
   "outputs": [],
   "source": []
  }
 ],
 "metadata": {
  "interpreter": {
   "hash": "b0fa6594d8f4cbf19f97940f81e996739fb7646882a419484c72d19e05852a7e"
  },
  "kernelspec": {
   "display_name": "Python 3.9.5 64-bit",
   "name": "python3"
  },
  "language_info": {
   "codemirror_mode": {
    "name": "ipython",
    "version": 3
   },
   "file_extension": ".py",
   "mimetype": "text/x-python",
   "name": "python",
   "nbconvert_exporter": "python",
   "pygments_lexer": "ipython3",
   "version": "3.9.5"
  },
  "orig_nbformat": 4
 },
 "nbformat": 4,
 "nbformat_minor": 2
}
