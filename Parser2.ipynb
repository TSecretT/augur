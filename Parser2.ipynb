{
 "cells": [
  {
   "cell_type": "code",
   "execution_count": 1,
   "id": "constant-awareness",
   "metadata": {},
   "outputs": [],
   "source": [
    "import requests\n",
    "import json\n",
    "\n",
    "import api\n",
    "import utils"
   ]
  },
  {
   "cell_type": "code",
   "execution_count": 16,
   "id": "egyptian-scratch",
   "metadata": {},
   "outputs": [],
   "source": [
    "\n",
    "\n",
    "\n",
    "def main():\n",
    "    match = api.getMatchDetails(\"1-000005f6-0361-493b-b30b-4f41736e863a\")\n",
    "    teams = utils.getPlayersFromMatch(match)\n",
    "    \n",
    "    \n",
    "    for faction in teams:\n",
    "        for player in teams[faction]:\n",
    "            playerStats = None\n",
    "    playerStats = None\n",
    "    \n",
    "    \n",
    "def stripPlayerMatch(match: object) -> object:\n",
    "    for key in match.copy():\n",
    "        if key in [\"elo\", \"HS\", \"Kills\", \"Assists\", \"Deaths\", \"First Half Score\", \"Second Half Score\"]:\n",
    "            if key == 'teams' and 'id' in match[key]['faction1']:\n",
    "                for team in match[key]:\n",
    "                    match[key][team] = [player['id'] for player in match[key][team]['roster']]\n",
    "            elif key == 'id':\n",
    "                match['_id'] = match[key]\n",
    "        else:\n",
    "            del match[key]\n",
    "    return match\n",
    "\n",
    "def getAverageOfPlayerMatch(matches: list) -> object:\n",
    "    match = {}\n",
    "    for key in matches[0]:\n",
    "        "
   ]
  },
  {
   "cell_type": "code",
   "execution_count": 17,
   "id": "electoral-forum",
   "metadata": {},
   "outputs": [
    {
     "name": "stdout",
     "output_type": "stream",
     "text": [
      "elo 2544\n",
      "HS 11\n",
      "Kills 21\n",
      "Assists 1\n",
      "Deaths 20\n",
      "First Half Score 7\n",
      "Second Half Score 2\n"
     ]
    }
   ],
   "source": [
    "stats = api.getPlayerMatchesStats(\"d5589cc1-a93c-4760-b4c1-cdc9ccf2f9b0\")\n",
    "stats = [stripPlayerMatch(utils.convertMatchKeys(match)) for match in stats]\n",
    "for stat in stats[0]:\n",
    "    print(stat, stats[0][stat])\n",
    "\n",
    "    \n",
    "    "
   ]
  },
  {
   "cell_type": "code",
   "execution_count": null,
   "id": "operating-glance",
   "metadata": {},
   "outputs": [],
   "source": []
  }
 ],
 "metadata": {
  "kernelspec": {
   "display_name": "Python 3",
   "language": "python",
   "name": "python3"
  },
  "language_info": {
   "codemirror_mode": {
    "name": "ipython",
    "version": 3
   },
   "file_extension": ".py",
   "mimetype": "text/x-python",
   "name": "python",
   "nbconvert_exporter": "python",
   "pygments_lexer": "ipython3",
   "version": "3.8.8"
  }
 },
 "nbformat": 4,
 "nbformat_minor": 5
}
